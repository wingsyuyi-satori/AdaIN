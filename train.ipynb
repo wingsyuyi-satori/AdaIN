{
 "cells": [
  {
   "cell_type": "code",
   "execution_count": 1,
   "metadata": {
    "collapsed": true,
    "pycharm": {
     "name": "#%%\n"
    }
   },
   "outputs": [
    {
     "name": "stdout",
     "output_type": "stream",
     "text": [
      "Net(\n",
      "  (enc_1): Sequential(\n",
      "    (0): Conv2d(3, 3, kernel_size=(1, 1), stride=(1, 1))\n",
      "    (1): ReflectionPad2d((1, 1, 1, 1))\n",
      "    (2): Conv2d(3, 64, kernel_size=(3, 3), stride=(1, 1))\n",
      "    (3): ReLU()\n",
      "  )\n",
      "  (enc_2): Sequential(\n",
      "    (0): ReflectionPad2d((1, 1, 1, 1))\n",
      "    (1): Conv2d(64, 64, kernel_size=(3, 3), stride=(1, 1))\n",
      "    (2): ReLU()\n",
      "    (3): MaxPool2d(kernel_size=(2, 2), stride=(2, 2), padding=(0, 0), dilation=1, ceil_mode=True)\n",
      "    (4): ReflectionPad2d((1, 1, 1, 1))\n",
      "    (5): Conv2d(64, 128, kernel_size=(3, 3), stride=(1, 1))\n",
      "    (6): ReLU()\n",
      "  )\n",
      "  (enc_3): Sequential(\n",
      "    (0): ReflectionPad2d((1, 1, 1, 1))\n",
      "    (1): Conv2d(128, 128, kernel_size=(3, 3), stride=(1, 1))\n",
      "    (2): ReLU()\n",
      "    (3): MaxPool2d(kernel_size=(2, 2), stride=(2, 2), padding=(0, 0), dilation=1, ceil_mode=True)\n",
      "    (4): ReflectionPad2d((1, 1, 1, 1))\n",
      "    (5): Conv2d(128, 256, kernel_size=(3, 3), stride=(1, 1))\n",
      "    (6): ReLU()\n",
      "  )\n",
      "  (enc_4): Sequential(\n",
      "    (0): ReflectionPad2d((1, 1, 1, 1))\n",
      "    (1): Conv2d(256, 256, kernel_size=(3, 3), stride=(1, 1))\n",
      "    (2): ReLU()\n",
      "    (3): ReflectionPad2d((1, 1, 1, 1))\n",
      "    (4): Conv2d(256, 256, kernel_size=(3, 3), stride=(1, 1))\n",
      "    (5): ReLU()\n",
      "    (6): ReflectionPad2d((1, 1, 1, 1))\n",
      "    (7): Conv2d(256, 256, kernel_size=(3, 3), stride=(1, 1))\n",
      "    (8): ReLU()\n",
      "    (9): MaxPool2d(kernel_size=(2, 2), stride=(2, 2), padding=(0, 0), dilation=1, ceil_mode=True)\n",
      "    (10): ReflectionPad2d((1, 1, 1, 1))\n",
      "    (11): Conv2d(256, 512, kernel_size=(3, 3), stride=(1, 1))\n",
      "    (12): ReLU()\n",
      "  )\n",
      "  (decoder): Sequential(\n",
      "    (0): ReflectionPad2d((1, 1, 1, 1))\n",
      "    (1): Conv2d(512, 256, kernel_size=(3, 3), stride=(1, 1))\n",
      "    (2): ReLU()\n",
      "    (3): Upsample(scale_factor=2.0, mode=nearest)\n",
      "    (4): ReflectionPad2d((1, 1, 1, 1))\n",
      "    (5): Conv2d(256, 256, kernel_size=(3, 3), stride=(1, 1))\n",
      "    (6): ReLU()\n",
      "    (7): ReflectionPad2d((1, 1, 1, 1))\n",
      "    (8): Conv2d(256, 256, kernel_size=(3, 3), stride=(1, 1))\n",
      "    (9): ReLU()\n",
      "    (10): ReflectionPad2d((1, 1, 1, 1))\n",
      "    (11): Conv2d(256, 256, kernel_size=(3, 3), stride=(1, 1))\n",
      "    (12): ReLU()\n",
      "    (13): ReflectionPad2d((1, 1, 1, 1))\n",
      "    (14): Conv2d(256, 128, kernel_size=(3, 3), stride=(1, 1))\n",
      "    (15): ReLU()\n",
      "    (16): Upsample(scale_factor=2.0, mode=nearest)\n",
      "    (17): ReflectionPad2d((1, 1, 1, 1))\n",
      "    (18): Conv2d(128, 128, kernel_size=(3, 3), stride=(1, 1))\n",
      "    (19): ReLU()\n",
      "    (20): ReflectionPad2d((1, 1, 1, 1))\n",
      "    (21): Conv2d(128, 64, kernel_size=(3, 3), stride=(1, 1))\n",
      "    (22): ReLU()\n",
      "    (23): Upsample(scale_factor=2.0, mode=nearest)\n",
      "    (24): ReflectionPad2d((1, 1, 1, 1))\n",
      "    (25): Conv2d(64, 64, kernel_size=(3, 3), stride=(1, 1))\n",
      "    (26): ReLU()\n",
      "    (27): ReflectionPad2d((1, 1, 1, 1))\n",
      "    (28): Conv2d(64, 3, kernel_size=(3, 3), stride=(1, 1))\n",
      "  )\n",
      "  (mse_loss): MSELoss()\n",
      ")\n"
     ]
    }
   ],
   "source": [
    "from pathlib import Path\n",
    "\n",
    "import torch\n",
    "import torch.nn as nn\n",
    "import torch.utils.data as data\n",
    "from PIL import Image\n",
    "from torchvision import transforms\n",
    "from tqdm import tqdm\n",
    "import net\n",
    "\n",
    "def train_transform():\n",
    "    transform_list = [\n",
    "        transforms.Resize(size=(256,256)),\n",
    "        transforms.ToTensor()\n",
    "    ]\n",
    "    return transforms.Compose(transform_list)\n",
    "\n",
    "\n",
    "class MyDataset(data.Dataset):\n",
    "    def __init__(self, path, transform):\n",
    "        super(MyDataset, self).__init__()\n",
    "        self.path = path\n",
    "        self.paths = list(Path(self.path).glob('*.jpg'))\n",
    "        self.transform = transform\n",
    "\n",
    "    def __getitem__(self, index):\n",
    "        path = self.paths[index]\n",
    "        img = Image.open(str(path)).convert('RGB')\n",
    "        img = self.transform(img)\n",
    "        return img\n",
    "\n",
    "    def __len__(self):\n",
    "        return len(self.paths)\n",
    "\n",
    "    def name(self):\n",
    "        return 'MyDataset'\n",
    "network = net.Net()\n",
    "# 加载预训练参数\n",
    "network.load_state_dict(torch.load(\"network.pth\"))\n",
    "print(network)\n"
   ]
  },
  {
   "cell_type": "code",
   "execution_count": 2,
   "outputs": [
    {
     "name": "stdout",
     "output_type": "stream",
     "text": [
      "Net(\n",
      "  (enc_1): Sequential(\n",
      "    (0): Conv2d(3, 3, kernel_size=(1, 1), stride=(1, 1))\n",
      "    (1): ReflectionPad2d((1, 1, 1, 1))\n",
      "    (2): Conv2d(3, 64, kernel_size=(3, 3), stride=(1, 1))\n",
      "    (3): ReLU()\n",
      "  )\n",
      "  (enc_2): Sequential(\n",
      "    (0): ReflectionPad2d((1, 1, 1, 1))\n",
      "    (1): Conv2d(64, 64, kernel_size=(3, 3), stride=(1, 1))\n",
      "    (2): ReLU()\n",
      "    (3): MaxPool2d(kernel_size=(2, 2), stride=(2, 2), padding=(0, 0), dilation=1, ceil_mode=True)\n",
      "    (4): ReflectionPad2d((1, 1, 1, 1))\n",
      "    (5): Conv2d(64, 128, kernel_size=(3, 3), stride=(1, 1))\n",
      "    (6): ReLU()\n",
      "  )\n",
      "  (enc_3): Sequential(\n",
      "    (0): ReflectionPad2d((1, 1, 1, 1))\n",
      "    (1): Conv2d(128, 128, kernel_size=(3, 3), stride=(1, 1))\n",
      "    (2): ReLU()\n",
      "    (3): MaxPool2d(kernel_size=(2, 2), stride=(2, 2), padding=(0, 0), dilation=1, ceil_mode=True)\n",
      "    (4): ReflectionPad2d((1, 1, 1, 1))\n",
      "    (5): Conv2d(128, 256, kernel_size=(3, 3), stride=(1, 1))\n",
      "    (6): ReLU()\n",
      "  )\n",
      "  (enc_4): Sequential(\n",
      "    (0): ReflectionPad2d((1, 1, 1, 1))\n",
      "    (1): Conv2d(256, 256, kernel_size=(3, 3), stride=(1, 1))\n",
      "    (2): ReLU()\n",
      "    (3): ReflectionPad2d((1, 1, 1, 1))\n",
      "    (4): Conv2d(256, 256, kernel_size=(3, 3), stride=(1, 1))\n",
      "    (5): ReLU()\n",
      "    (6): ReflectionPad2d((1, 1, 1, 1))\n",
      "    (7): Conv2d(256, 256, kernel_size=(3, 3), stride=(1, 1))\n",
      "    (8): ReLU()\n",
      "    (9): MaxPool2d(kernel_size=(2, 2), stride=(2, 2), padding=(0, 0), dilation=1, ceil_mode=True)\n",
      "    (10): ReflectionPad2d((1, 1, 1, 1))\n",
      "    (11): Conv2d(256, 512, kernel_size=(3, 3), stride=(1, 1))\n",
      "    (12): ReLU()\n",
      "  )\n",
      "  (decoder): Sequential(\n",
      "    (0): ReflectionPad2d((1, 1, 1, 1))\n",
      "    (1): Conv2d(512, 256, kernel_size=(3, 3), stride=(1, 1))\n",
      "    (2): ReLU()\n",
      "    (3): Upsample(scale_factor=2.0, mode=nearest)\n",
      "    (4): ReflectionPad2d((1, 1, 1, 1))\n",
      "    (5): Conv2d(256, 256, kernel_size=(3, 3), stride=(1, 1))\n",
      "    (6): ReLU()\n",
      "    (7): ReflectionPad2d((1, 1, 1, 1))\n",
      "    (8): Conv2d(256, 256, kernel_size=(3, 3), stride=(1, 1))\n",
      "    (9): ReLU()\n",
      "    (10): ReflectionPad2d((1, 1, 1, 1))\n",
      "    (11): Conv2d(256, 256, kernel_size=(3, 3), stride=(1, 1))\n",
      "    (12): ReLU()\n",
      "    (13): ReflectionPad2d((1, 1, 1, 1))\n",
      "    (14): Conv2d(256, 128, kernel_size=(3, 3), stride=(1, 1))\n",
      "    (15): ReLU()\n",
      "    (16): Upsample(scale_factor=2.0, mode=nearest)\n",
      "    (17): ReflectionPad2d((1, 1, 1, 1))\n",
      "    (18): Conv2d(128, 128, kernel_size=(3, 3), stride=(1, 1))\n",
      "    (19): ReLU()\n",
      "    (20): ReflectionPad2d((1, 1, 1, 1))\n",
      "    (21): Conv2d(128, 64, kernel_size=(3, 3), stride=(1, 1))\n",
      "    (22): ReLU()\n",
      "    (23): Upsample(scale_factor=2.0, mode=nearest)\n",
      "    (24): ReflectionPad2d((1, 1, 1, 1))\n",
      "    (25): Conv2d(64, 64, kernel_size=(3, 3), stride=(1, 1))\n",
      "    (26): ReLU()\n",
      "    (27): ReflectionPad2d((1, 1, 1, 1))\n",
      "    (28): Conv2d(64, 3, kernel_size=(3, 3), stride=(1, 1))\n",
      "  )\n",
      "  (mse_loss): MSELoss()\n",
      ")\n"
     ]
    }
   ],
   "source": [
    "print(network)"
   ],
   "metadata": {
    "collapsed": false,
    "pycharm": {
     "name": "#%%\n"
    }
   }
  },
  {
   "cell_type": "code",
   "execution_count": 3,
   "outputs": [],
   "source": [
    "tf=train_transform()\n",
    "content_dataset = MyDataset(f\"content\", tf)\n",
    "style_dataset = MyDataset(f\"style\", tf)\n",
    "\n",
    "content_iter = iter(data.DataLoader(\n",
    "    content_dataset, batch_size=1,shuffle=True))\n",
    "style_iter = iter(data.DataLoader(\n",
    "    style_dataset, batch_size=1,shuffle=True))"
   ],
   "metadata": {
    "collapsed": false,
    "pycharm": {
     "name": "#%%\n"
    }
   }
  },
  {
   "cell_type": "code",
   "execution_count": 4,
   "outputs": [
    {
     "name": "stderr",
     "output_type": "stream",
     "text": [
      " 20%|██        | 2/10 [00:01<00:05,  1.44it/s]"
     ]
    },
    {
     "name": "stdout",
     "output_type": "stream",
     "text": [
      "loss_c: 0.626849889755249, loss_s: 22.883394241333008，loss: 23.510244369506836\n",
      "loss_c: 0.9384181499481201, loss_s: 11.691937446594238，loss: 12.630355834960938\n"
     ]
    },
    {
     "name": "stderr",
     "output_type": "stream",
     "text": [
      " 40%|████      | 4/10 [00:01<00:01,  3.25it/s]"
     ]
    },
    {
     "name": "stdout",
     "output_type": "stream",
     "text": [
      "loss_c: 0.5885189771652222, loss_s: 17.896041870117188，loss: 18.484560012817383\n",
      "loss_c: 0.824416995048523, loss_s: 30.870208740234375，loss: 31.694625854492188\n"
     ]
    },
    {
     "name": "stderr",
     "output_type": "stream",
     "text": [
      " 60%|██████    | 6/10 [00:02<00:00,  5.10it/s]"
     ]
    },
    {
     "name": "stdout",
     "output_type": "stream",
     "text": [
      "loss_c: 1.3897268772125244, loss_s: 27.496374130249023，loss: 28.88610076904297\n",
      "loss_c: 1.3628208637237549, loss_s: 53.09851837158203，loss: 54.46133804321289\n"
     ]
    },
    {
     "name": "stderr",
     "output_type": "stream",
     "text": [
      " 80%|████████  | 8/10 [00:02<00:00,  7.04it/s]"
     ]
    },
    {
     "name": "stdout",
     "output_type": "stream",
     "text": [
      "loss_c: 1.4095178842544556, loss_s: 24.254638671875，loss: 25.664155960083008\n",
      "loss_c: 1.1904929876327515, loss_s: 30.432701110839844，loss: 31.623193740844727\n",
      "loss_c: 0.8729572296142578, loss_s: 14.61633586883545，loss: 15.489293098449707\n"
     ]
    },
    {
     "name": "stderr",
     "output_type": "stream",
     "text": [
      "100%|██████████| 10/10 [00:02<00:00,  3.95it/s]"
     ]
    },
    {
     "name": "stdout",
     "output_type": "stream",
     "text": [
      "loss_c: 0.692363977432251, loss_s: 9.698209762573242，loss: 10.390573501586914\n"
     ]
    },
    {
     "name": "stderr",
     "output_type": "stream",
     "text": [
      "\n"
     ]
    }
   ],
   "source": [
    "from torchvision.utils import save_image\n",
    "network.to('cuda')\n",
    "optimizer = torch.optim.Adam(network.parameters())\n",
    "# 目前为评估模式，如果需要训练则将eval修改为train，同时使用优化器优化网络即可\n",
    "# 计时判断转换的时间花费，效果可在output文件夹查看\n",
    "network.eval()\n",
    "for i in tqdm(range(10)):\n",
    "    content_images = next(content_iter).to('cuda')\n",
    "    style_images = next(style_iter).to('cuda')\n",
    "    loss_c, loss_s, generate_image = network(content_images, style_images,0.5)# rate代表风格迁移的程度,修改rate可以看到loss_c明显下降和loss_s明显增大\n",
    "    loss_c = 1 * loss_c\n",
    "    loss_s = 10 * loss_s\n",
    "    loss = loss_c + loss_s\n",
    "    print(f\"loss_c: {loss_c}, loss_s: {loss_s}，loss: {loss}\")\n",
    "    save_image(generate_image, f\"output/{i+1}_generate_image.png\")\n",
    "    save_image(content_images, f\"output/{i+1}_content_image.png\")\n",
    "    save_image(style_images, f\"output/{i+1}_style_image.png\")"
   ],
   "metadata": {
    "collapsed": false,
    "pycharm": {
     "name": "#%%\n"
    }
   }
  },
  {
   "cell_type": "code",
   "execution_count": null,
   "outputs": [],
   "source": [],
   "metadata": {
    "collapsed": false,
    "pycharm": {
     "name": "#%%\n"
    }
   }
  }
 ],
 "metadata": {
  "kernelspec": {
   "display_name": "Python 3",
   "language": "python",
   "name": "python3"
  },
  "language_info": {
   "codemirror_mode": {
    "name": "ipython",
    "version": 2
   },
   "file_extension": ".py",
   "mimetype": "text/x-python",
   "name": "python",
   "nbconvert_exporter": "python",
   "pygments_lexer": "ipython2",
   "version": "2.7.6"
  }
 },
 "nbformat": 4,
 "nbformat_minor": 0
}